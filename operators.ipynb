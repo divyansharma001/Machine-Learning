{
 "cells": [
  {
   "cell_type": "code",
   "execution_count": 3,
   "metadata": {},
   "outputs": [
    {
     "name": "stdout",
     "output_type": "stream",
     "text": [
      "Addition of a and b is:  25\n",
      "Subtraction of a and b is:  -5\n",
      "Multiplication of a and b is:  150\n",
      "Division of a and b is:  0.6666666666666666\n",
      "Floor Division of a and b is:  0\n",
      "Modulus of a and b is:  10\n",
      "Power of a and b is:  1000000000000000\n"
     ]
    }
   ],
   "source": [
    "##arithmetic operations\n",
    "a=10\n",
    "b=15\n",
    "\n",
    "add_result = a+b\n",
    "sub_result = a-b\n",
    "mul_result = a*b\n",
    "div_result = a/b\n",
    "floor_div_result = a//b\n",
    "modulus_result = a%b\n",
    "power_result = a**b\n",
    "\n",
    "\n",
    "print(\"Addition of a and b is: \",add_result)\n",
    "print(\"Subtraction of a and b is: \",sub_result)\n",
    "print(\"Multiplication of a and b is: \",mul_result)\n",
    "print(\"Division of a and b is: \",div_result)\n",
    "print(\"Floor Division of a and b is: \",floor_div_result)\n",
    "print(\"Modulus of a and b is: \",modulus_result)\n",
    "print(\"Power of a and b is: \",power_result)\n",
    "\n",
    "\n"
   ]
  },
  {
   "cell_type": "code",
   "execution_count": null,
   "metadata": {},
   "outputs": [],
   "source": [
    "10/5"
   ]
  },
  {
   "cell_type": "code",
   "execution_count": 4,
   "metadata": {},
   "outputs": [
    {
     "data": {
      "text/plain": [
       "4"
      ]
     },
     "execution_count": 4,
     "metadata": {},
     "output_type": "execute_result"
    }
   ],
   "source": [
    "21/5\n",
    "21//5"
   ]
  },
  {
   "cell_type": "code",
   "execution_count": 5,
   "metadata": {},
   "outputs": [
    {
     "name": "stdout",
     "output_type": "stream",
     "text": [
      "a is equal to b:  True\n"
     ]
    }
   ],
   "source": [
    "#comparison operators\n",
    "\n",
    "a=10\n",
    "b=10\n",
    "\n",
    "result = a==b  #equal to operator\n",
    "\n",
    "print(\"a is equal to b: \",result)\n",
    "\n",
    "\n",
    "result = a!=b  #not equal to operator\n",
    "\n",
    "\n"
   ]
  },
  {
   "cell_type": "code",
   "execution_count": null,
   "metadata": {},
   "outputs": [],
   "source": [
    "a>b\n",
    "a<b\n",
    "a>=b\n",
    "a<=b"
   ]
  },
  {
   "cell_type": "code",
   "execution_count": 10,
   "metadata": {},
   "outputs": [
    {
     "name": "stdout",
     "output_type": "stream",
     "text": [
      "False\n"
     ]
    }
   ],
   "source": [
    "#AND OR NOT\n",
    "\n",
    "x= True\n",
    "y=False\n",
    "\n",
    "print(x and y)\n",
    "print(x or y)\n"
   ]
  },
  {
   "cell_type": "code",
   "execution_count": 11,
   "metadata": {},
   "outputs": [
    {
     "name": "stdout",
     "output_type": "stream",
     "text": [
      "False\n"
     ]
    }
   ],
   "source": [
    "#not\n",
    "# reverse of bolean value\n",
    "\n",
    "x= True\n",
    "print(not x)"
   ]
  }
 ],
 "metadata": {
  "kernelspec": {
   "display_name": "venv",
   "language": "python",
   "name": "python3"
  },
  "language_info": {
   "codemirror_mode": {
    "name": "ipython",
    "version": 3
   },
   "file_extension": ".py",
   "mimetype": "text/x-python",
   "name": "python",
   "nbconvert_exporter": "python",
   "pygments_lexer": "ipython3",
   "version": "3.12.0"
  }
 },
 "nbformat": 4,
 "nbformat_minor": 2
}
