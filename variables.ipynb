{
 "cells": [
  {
   "cell_type": "code",
   "execution_count": 1,
   "metadata": {},
   "outputs": [
    {
     "name": "stdout",
     "output_type": "stream",
     "text": [
      "100\n"
     ]
    }
   ],
   "source": [
    "age=100\n",
    "print(age)"
   ]
  },
  {
   "cell_type": "code",
   "execution_count": 2,
   "metadata": {},
   "outputs": [
    {
     "name": "stdout",
     "output_type": "stream",
     "text": [
      "age : 32\n",
      "height : 6.1\n",
      "name : Divyansh\n",
      "is_student : True\n"
     ]
    }
   ],
   "source": [
    "age=32\n",
    "height=6.1\n",
    "name=\"Divyansh\"\n",
    "is_student= True\n",
    "\n",
    "print(\"age :\",age)\n",
    "print(\"height :\",height)\n",
    "print(\"name :\",name)\n",
    "print(\"is_student :\",is_student)"
   ]
  },
  {
   "cell_type": "code",
   "execution_count": null,
   "metadata": {},
   "outputs": [],
   "source": [
    "##naming convention\n",
    "##variable name should be descriptive\n",
    "##they must always start with a letter or an underscore and contains only letters, numbers and underscores\n",
    "# \n",
    "# valid variable names:\n",
    "\n",
    "first_name = \"Divyansh\"\n",
    "last_name = \"Sharma\"\n",
    "\n",
    "#invalid variable names:\n",
    "\n",
    "2age = 100\n",
    "first-name = \"Divyansh\"\n",
    "@name=\"Divyansh\""
   ]
  },
  {
   "cell_type": "code",
   "execution_count": 3,
   "metadata": {},
   "outputs": [
    {
     "data": {
      "text/plain": [
       "False"
      ]
     },
     "execution_count": 3,
     "metadata": {},
     "output_type": "execute_result"
    }
   ],
   "source": [
    "##case sensitive\n",
    "name=\"Divyansh\"\n",
    "Name=\"Sharma\"\n",
    "\n",
    "name==Name"
   ]
  },
  {
   "cell_type": "code",
   "execution_count": 5,
   "metadata": {},
   "outputs": [
    {
     "name": "stdout",
     "output_type": "stream",
     "text": [
      "<class 'int'>\n",
      "<class 'float'>\n",
      "<class 'str'>\n",
      "<class 'bool'>\n"
     ]
    }
   ],
   "source": [
    "##variable types\n",
    "#python is dynamically typed language, i.e. type is determined at runtime\n",
    "\n",
    "age=100 #integer\n",
    "height=6.1 #float\n",
    "name=\"Divyansh\" #string\n",
    "is_student=True #bool\n",
    "\n",
    "print(type(age))\n",
    "print(type(height))\n",
    "print(type(name))\n",
    "print(type(is_student))\n"
   ]
  },
  {
   "cell_type": "code",
   "execution_count": 6,
   "metadata": {},
   "outputs": [
    {
     "data": {
      "text/plain": [
       "float"
      ]
     },
     "execution_count": 6,
     "metadata": {},
     "output_type": "execute_result"
    }
   ],
   "source": [
    "#type checking and conversion\n",
    "type(height) #float"
   ]
  },
  {
   "cell_type": "code",
   "execution_count": 7,
   "metadata": {},
   "outputs": [
    {
     "name": "stdout",
     "output_type": "stream",
     "text": [
      "<class 'int'>\n",
      "100\n",
      "<class 'str'>\n"
     ]
    }
   ],
   "source": [
    "age=100\n",
    "print(type(age)) #int\n",
    "\n",
    "#type conversion\n",
    "age_str=str(age)\n",
    "print(age_str) #100\n",
    "print(type(age_str)) #str"
   ]
  },
  {
   "cell_type": "code",
   "execution_count": null,
   "metadata": {},
   "outputs": [],
   "source": [
    "age=\"25\"\n",
    "print(type(int(age))) #int"
   ]
  },
  {
   "cell_type": "code",
   "execution_count": null,
   "metadata": {},
   "outputs": [],
   "source": [
    "name=\"Divyansh\"\n",
    "int(name) #error"
   ]
  },
  {
   "cell_type": "code",
   "execution_count": null,
   "metadata": {},
   "outputs": [],
   "source": [
    "height=6.1\n",
    "int(height) #6\n",
    "type(int(height)) #int\n",
    "float(int(height)) #6.0\n"
   ]
  },
  {
   "cell_type": "code",
   "execution_count": 8,
   "metadata": {},
   "outputs": [
    {
     "name": "stdout",
     "output_type": "stream",
     "text": [
      "10 <class 'int'>\n",
      "hello <class 'str'>\n",
      "3.14 <class 'float'>\n"
     ]
    }
   ],
   "source": [
    "##dyanmic typing\n",
    "#python allows the type of variable to change as the program continues\n",
    "var=10\n",
    "print(var, type(var))\n",
    "var=\"hello\"\n",
    "print(var, type(var))\n",
    "var=3.14\n",
    "print(var, type(var))"
   ]
  },
  {
   "cell_type": "code",
   "execution_count": null,
   "metadata": {},
   "outputs": [
    {
     "name": "stdout",
     "output_type": "stream",
     "text": [
      "12 <class 'str'>\n"
     ]
    }
   ],
   "source": [
    "##input\n",
    "\n",
    "age=input(\"What is the age\")\n",
    "print(age, type(age)) #str\n",
    "\n",
    "#hence\n",
    "age=int(input(\"What is your age\"))\n",
    "print(age, type(age)) #int\n",
    "\n"
   ]
  }
 ],
 "metadata": {
  "kernelspec": {
   "display_name": "Python 3",
   "language": "python",
   "name": "python3"
  },
  "language_info": {
   "codemirror_mode": {
    "name": "ipython",
    "version": 3
   },
   "file_extension": ".py",
   "mimetype": "text/x-python",
   "name": "python",
   "nbconvert_exporter": "python",
   "pygments_lexer": "ipython3",
   "version": "3.12.0"
  }
 },
 "nbformat": 4,
 "nbformat_minor": 2
}
